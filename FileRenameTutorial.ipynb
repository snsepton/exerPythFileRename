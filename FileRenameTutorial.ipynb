{
 "cells": [
  {
   "cell_type": "code",
   "execution_count": 2,
   "source": [
    "import os"
   ],
   "outputs": [],
   "metadata": {}
  },
  {
   "cell_type": "code",
   "execution_count": 23,
   "source": [
    "print(os.getcwd())"
   ],
   "outputs": [
    {
     "output_type": "stream",
     "name": "stdout",
     "text": [
      "c:\\Users\\absep\\Desktop\\Week_4\\exerPythFileRename\n"
     ]
    }
   ],
   "metadata": {}
  },
  {
   "cell_type": "code",
   "execution_count": 30,
   "source": [
    "for f in os.listdir():\r\n",
    "    print(f)"
   ],
   "outputs": [
    {
     "output_type": "stream",
     "name": "stdout",
     "text": [
      ".git\n",
      "Earth - Our Solar System - #4.txt\n",
      "FileRenameTutorial.ipynb\n",
      "Jupiter - Our solar system - #6.txt\n",
      "mars - Our solar system - #5.txt\n",
      "mercury - Our solar system - #2.txt\n",
      "neptune - Our solar system - #8.txt\n",
      "pluto - Our solar system - #10.txt\n",
      "README.md\n",
      "saturn - Our solar system - #7.txt\n",
      "The Sun - Our solar system - #1.txt\n",
      "Uranus - Our solar system - #9.txt\n",
      "venus - Our solar system - #3.txt\n"
     ]
    }
   ],
   "metadata": {}
  },
  {
   "cell_type": "code",
   "execution_count": 31,
   "source": [
    "for f in os.listdir():\r\n",
    "    print(os.path.splitext(f))"
   ],
   "outputs": [
    {
     "output_type": "stream",
     "name": "stdout",
     "text": [
      "('.git', '')\n",
      "('Earth - Our Solar System - #4', '.txt')\n",
      "('FileRenameTutorial', '.ipynb')\n",
      "('Jupiter - Our solar system - #6', '.txt')\n",
      "('mars - Our solar system - #5', '.txt')\n",
      "('mercury - Our solar system - #2', '.txt')\n",
      "('neptune - Our solar system - #8', '.txt')\n",
      "('pluto - Our solar system - #10', '.txt')\n",
      "('README', '.md')\n",
      "('saturn - Our solar system - #7', '.txt')\n",
      "('The Sun - Our solar system - #1', '.txt')\n",
      "('Uranus - Our solar system - #9', '.txt')\n",
      "('venus - Our solar system - #3', '.txt')\n"
     ]
    }
   ],
   "metadata": {}
  },
  {
   "cell_type": "code",
   "execution_count": 32,
   "source": [
    "for f in os.listdir():\r\n",
    "    file_name, file_ext = os.path.splitext(f)\r\n",
    "    print(file_name)"
   ],
   "outputs": [
    {
     "output_type": "stream",
     "name": "stdout",
     "text": [
      ".git\n",
      "Earth - Our Solar System - #4\n",
      "FileRenameTutorial\n",
      "Jupiter - Our solar system - #6\n",
      "mars - Our solar system - #5\n",
      "mercury - Our solar system - #2\n",
      "neptune - Our solar system - #8\n",
      "pluto - Our solar system - #10\n",
      "README\n",
      "saturn - Our solar system - #7\n",
      "The Sun - Our solar system - #1\n",
      "Uranus - Our solar system - #9\n",
      "venus - Our solar system - #3\n"
     ]
    }
   ],
   "metadata": {}
  },
  {
   "cell_type": "code",
   "execution_count": 33,
   "source": [
    "for f in os.listdir():\r\n",
    "    file_name, file_ext = os.path.splitext(f)\r\n",
    "    print(file_name.split('-'))"
   ],
   "outputs": [
    {
     "output_type": "stream",
     "name": "stdout",
     "text": [
      "['.git']\n",
      "['Earth ', ' Our Solar System ', ' #4']\n",
      "['FileRenameTutorial']\n",
      "['Jupiter ', ' Our solar system ', ' #6']\n",
      "['mars ', ' Our solar system ', ' #5']\n",
      "['mercury ', ' Our solar system ', ' #2']\n",
      "['neptune ', ' Our solar system ', ' #8']\n",
      "['pluto ', ' Our solar system ', ' #10']\n",
      "['README']\n",
      "['saturn ', ' Our solar system ', ' #7']\n",
      "['The Sun ', ' Our solar system ', ' #1']\n",
      "['Uranus ', ' Our solar system ', ' #9']\n",
      "['venus ', ' Our solar system ', ' #3']\n"
     ]
    }
   ],
   "metadata": {}
  },
  {
   "cell_type": "code",
   "execution_count": 51,
   "source": [
    "for f in os.listdir():\r\n",
    "    file_name, file_ext = os.path.splitext(f)\r\n",
    "\r\n",
    "    f_title, f_course, f_num = file_name.split('-')"
   ],
   "outputs": [
    {
     "output_type": "error",
     "ename": "ValueError",
     "evalue": "not enough values to unpack (expected 3, got 1)",
     "traceback": [
      "\u001b[1;31m---------------------------------------------------------------------------\u001b[0m",
      "\u001b[1;31mValueError\u001b[0m                                Traceback (most recent call last)",
      "\u001b[1;32m~\\AppData\\Local\\Temp/ipykernel_30972/798821707.py\u001b[0m in \u001b[0;36m<module>\u001b[1;34m\u001b[0m\n\u001b[0;32m      2\u001b[0m     \u001b[0mfile_name\u001b[0m\u001b[1;33m,\u001b[0m \u001b[0mfile_ext\u001b[0m \u001b[1;33m=\u001b[0m \u001b[0mos\u001b[0m\u001b[1;33m.\u001b[0m\u001b[0mpath\u001b[0m\u001b[1;33m.\u001b[0m\u001b[0msplitext\u001b[0m\u001b[1;33m(\u001b[0m\u001b[0mf\u001b[0m\u001b[1;33m)\u001b[0m\u001b[1;33m\u001b[0m\u001b[1;33m\u001b[0m\u001b[0m\n\u001b[0;32m      3\u001b[0m \u001b[1;33m\u001b[0m\u001b[0m\n\u001b[1;32m----> 4\u001b[1;33m     \u001b[0mf_title\u001b[0m\u001b[1;33m,\u001b[0m \u001b[0mf_course\u001b[0m\u001b[1;33m,\u001b[0m \u001b[0mf_num\u001b[0m \u001b[1;33m=\u001b[0m \u001b[0mfile_name\u001b[0m\u001b[1;33m.\u001b[0m\u001b[0msplit\u001b[0m\u001b[1;33m(\u001b[0m\u001b[1;34m'-'\u001b[0m\u001b[1;33m)\u001b[0m\u001b[1;33m\u001b[0m\u001b[1;33m\u001b[0m\u001b[0m\n\u001b[0m",
      "\u001b[1;31mValueError\u001b[0m: not enough values to unpack (expected 3, got 1)"
     ]
    }
   ],
   "metadata": {}
  },
  {
   "cell_type": "code",
   "execution_count": 55,
   "source": [
    "print(os.getcwd())"
   ],
   "outputs": [
    {
     "output_type": "stream",
     "name": "stdout",
     "text": [
      "c:\\Users\\absep\\Desktop\\File_rename\n"
     ]
    }
   ],
   "metadata": {}
  },
  {
   "cell_type": "code",
   "execution_count": 54,
   "source": [
    "os.chdir('/Users/absep/Desktop/File_rename/')"
   ],
   "outputs": [],
   "metadata": {}
  },
  {
   "cell_type": "code",
   "execution_count": 56,
   "source": [
    "for f in os.listdir():\r\n",
    "    file_name, file_ext = os.path.splitext(f)\r\n",
    "    print(file_name.split('-'))"
   ],
   "outputs": [
    {
     "output_type": "stream",
     "name": "stdout",
     "text": [
      "['Earth ', ' Our Solar System ', ' #4']\n",
      "['Jupiter ', ' Our solar system ', ' #6']\n",
      "['mars ', ' Our solar system ', ' #5']\n",
      "['mercury ', ' Our solar system ', ' #2']\n",
      "['neptune ', ' Our solar system ', ' #8']\n",
      "['pluto ', ' Our solar system ', ' #10']\n",
      "['saturn ', ' Our solar system ', ' #7']\n",
      "['The Sun ', ' Our solar system ', ' #1']\n",
      "['Uranus ', ' Our solar system ', ' #9']\n",
      "['venus ', ' Our solar system ', ' #3']\n"
     ]
    }
   ],
   "metadata": {}
  },
  {
   "cell_type": "code",
   "execution_count": 57,
   "source": [
    "for f in os.listdir():\r\n",
    "    file_name, file_ext = os.path.splitext(f)\r\n",
    "\r\n",
    "    f_title, f_course, f_num = file_name.split('-')"
   ],
   "outputs": [],
   "metadata": {}
  },
  {
   "cell_type": "code",
   "execution_count": 58,
   "source": [
    "for f in os.listdir():\r\n",
    "    file_name, file_ext = os.path.splitext(f)\r\n",
    "\r\n",
    "    f_title, f_course, f_num = file_name.split('-')\r\n",
    "    print(f_title)"
   ],
   "outputs": [
    {
     "output_type": "stream",
     "name": "stdout",
     "text": [
      "Earth \n",
      "Jupiter \n",
      "mars \n",
      "mercury \n",
      "neptune \n",
      "pluto \n",
      "saturn \n",
      "The Sun \n",
      "Uranus \n",
      "venus \n"
     ]
    }
   ],
   "metadata": {}
  },
  {
   "cell_type": "code",
   "execution_count": 60,
   "source": [
    "for f in os.listdir():\r\n",
    "    file_name, file_ext = os.path.splitext(f)\r\n",
    "\r\n",
    "    f_title, f_course, f_num = file_name.split('-')\r\n",
    "    print(f_course)"
   ],
   "outputs": [
    {
     "output_type": "stream",
     "name": "stdout",
     "text": [
      " Our Solar System \n",
      " Our solar system \n",
      " Our solar system \n",
      " Our solar system \n",
      " Our solar system \n",
      " Our solar system \n",
      " Our solar system \n",
      " Our solar system \n",
      " Our solar system \n",
      " Our solar system \n"
     ]
    }
   ],
   "metadata": {}
  },
  {
   "cell_type": "code",
   "execution_count": 61,
   "source": [
    "for f in os.listdir():\r\n",
    "    file_name, file_ext = os.path.splitext(f)\r\n",
    "\r\n",
    "    f_title, f_course, f_num = file_name.split('-')\r\n",
    "    print(f_num)"
   ],
   "outputs": [
    {
     "output_type": "stream",
     "name": "stdout",
     "text": [
      " #4\n",
      " #6\n",
      " #5\n",
      " #2\n",
      " #8\n",
      " #10\n",
      " #7\n",
      " #1\n",
      " #9\n",
      " #3\n"
     ]
    }
   ],
   "metadata": {}
  },
  {
   "cell_type": "code",
   "execution_count": 65,
   "source": [
    "for f in os.listdir():\r\n",
    "    f_name, f_ext = os.path.splitext(f)\r\n",
    "\r\n",
    "    f_title, f_course, f_num = f_name.split('-')\r\n",
    "    print('{}-{}-{}{}'.format(f_num, f_course, f_title, f_ext))"
   ],
   "outputs": [
    {
     "output_type": "stream",
     "name": "stdout",
     "text": [
      " #4- Our Solar System -Earth .txt\n",
      " #6- Our solar system -Jupiter .txt\n",
      " #5- Our solar system -mars .txt\n",
      " #2- Our solar system -mercury .txt\n",
      " #8- Our solar system -neptune .txt\n",
      " #10- Our solar system -pluto .txt\n",
      " #7- Our solar system -saturn .txt\n",
      " #1- Our solar system -The Sun .txt\n",
      " #9- Our solar system -Uranus .txt\n",
      " #3- Our solar system -venus .txt\n"
     ]
    }
   ],
   "metadata": {}
  },
  {
   "cell_type": "code",
   "execution_count": 66,
   "source": [
    "for f in os.listdir():\r\n",
    "    f_name, f_ext = os.path.splitext(f)\r\n",
    "\r\n",
    "    f_title, f_course, f_num = f_name.split('-')\r\n",
    "\r\n",
    "    f_title = f_title.strip()\r\n",
    "    f_course = f_course.strip()\r\n",
    "    f_num = f_num.strip()\r\n",
    "\r\n",
    "    print('{}-{}-{}{}'.format(f_num, f_course, f_title, f_ext))"
   ],
   "outputs": [
    {
     "output_type": "stream",
     "name": "stdout",
     "text": [
      "#4-Our Solar System-Earth.txt\n",
      "#6-Our solar system-Jupiter.txt\n",
      "#5-Our solar system-mars.txt\n",
      "#2-Our solar system-mercury.txt\n",
      "#8-Our solar system-neptune.txt\n",
      "#10-Our solar system-pluto.txt\n",
      "#7-Our solar system-saturn.txt\n",
      "#1-Our solar system-The Sun.txt\n",
      "#9-Our solar system-Uranus.txt\n",
      "#3-Our solar system-venus.txt\n"
     ]
    }
   ],
   "metadata": {}
  },
  {
   "cell_type": "code",
   "execution_count": 67,
   "source": [
    "for f in os.listdir():\r\n",
    "    f_name, f_ext = os.path.splitext(f)\r\n",
    "\r\n",
    "    f_title, f_course, f_num = f_name.split('-')\r\n",
    "\r\n",
    "    f_title = f_title.strip()\r\n",
    "    f_course = f_course.strip()\r\n",
    "    f_num = f_num.strip()[1:]\r\n",
    "\r\n",
    "    print('{}-{}-{}{}'.format(f_num, f_course, f_title, f_ext))"
   ],
   "outputs": [
    {
     "output_type": "stream",
     "name": "stdout",
     "text": [
      "4-Our Solar System-Earth.txt\n",
      "6-Our solar system-Jupiter.txt\n",
      "5-Our solar system-mars.txt\n",
      "2-Our solar system-mercury.txt\n",
      "8-Our solar system-neptune.txt\n",
      "10-Our solar system-pluto.txt\n",
      "7-Our solar system-saturn.txt\n",
      "1-Our solar system-The Sun.txt\n",
      "9-Our solar system-Uranus.txt\n",
      "3-Our solar system-venus.txt\n"
     ]
    }
   ],
   "metadata": {}
  },
  {
   "cell_type": "code",
   "execution_count": 68,
   "source": [
    "for f in os.listdir():\r\n",
    "    f_name, f_ext = os.path.splitext(f)\r\n",
    "\r\n",
    "    f_title, f_course, f_num = f_name.split('-')\r\n",
    "\r\n",
    "    f_title = f_title.strip()\r\n",
    "    f_course = f_course.strip()\r\n",
    "    f_num = f_num.strip()[1:].zfill(2)\r\n",
    "\r\n",
    "    print('{}-{}-{}{}'.format(f_num, f_course, f_title, f_ext))"
   ],
   "outputs": [
    {
     "output_type": "stream",
     "name": "stdout",
     "text": [
      "04-Our Solar System-Earth.txt\n",
      "06-Our solar system-Jupiter.txt\n",
      "05-Our solar system-mars.txt\n",
      "02-Our solar system-mercury.txt\n",
      "08-Our solar system-neptune.txt\n",
      "10-Our solar system-pluto.txt\n",
      "07-Our solar system-saturn.txt\n",
      "01-Our solar system-The Sun.txt\n",
      "09-Our solar system-Uranus.txt\n",
      "03-Our solar system-venus.txt\n"
     ]
    }
   ],
   "metadata": {}
  },
  {
   "cell_type": "code",
   "execution_count": 69,
   "source": [
    "for f in os.listdir():\r\n",
    "    f_name, f_ext = os.path.splitext(f)\r\n",
    "\r\n",
    "    f_title, f_course, f_num = f_name.split('-')\r\n",
    "\r\n",
    "    f_title = f_title.strip()\r\n",
    "    f_course = f_course.strip()\r\n",
    "    f_num = f_num.strip()[1:].zfill(2)\r\n",
    "\r\n",
    "    print('{}-{}{}'.format(f_num, f_title, f_ext))"
   ],
   "outputs": [
    {
     "output_type": "stream",
     "name": "stdout",
     "text": [
      "04-Earth.txt\n",
      "06-Jupiter.txt\n",
      "05-mars.txt\n",
      "02-mercury.txt\n",
      "08-neptune.txt\n",
      "10-pluto.txt\n",
      "07-saturn.txt\n",
      "01-The Sun.txt\n",
      "09-Uranus.txt\n",
      "03-venus.txt\n"
     ]
    }
   ],
   "metadata": {}
  },
  {
   "cell_type": "code",
   "execution_count": 71,
   "source": [
    "for f in os.listdir():\r\n",
    "    f_name, f_ext = os.path.splitext(f)\r\n",
    "\r\n",
    "    f_title, f_course, f_num = f_name.split('-')\r\n",
    "\r\n",
    "    f_title = f_title.strip()\r\n",
    "    f_course = f_course.strip()\r\n",
    "    f_num = f_num.strip()[1:].zfill(2)\r\n",
    "\r\n",
    "    new_name = '{}-{}{}'.format(f_num, f_title, f_ext)\r\n",
    "\r\n",
    "    os.rename(f, new_name)"
   ],
   "outputs": [],
   "metadata": {}
  },
  {
   "cell_type": "code",
   "execution_count": null,
   "source": [],
   "outputs": [],
   "metadata": {}
  }
 ],
 "metadata": {
  "orig_nbformat": 4,
  "language_info": {
   "name": "python",
   "version": "3.8.11",
   "mimetype": "text/x-python",
   "codemirror_mode": {
    "name": "ipython",
    "version": 3
   },
   "pygments_lexer": "ipython3",
   "nbconvert_exporter": "python",
   "file_extension": ".py"
  },
  "kernelspec": {
   "name": "python3",
   "display_name": "Python 3.8.11 64-bit ('Python Program Env': conda)"
  },
  "interpreter": {
   "hash": "4026343e53e3e0a5ef5eeba46dbdcc46936b61df1d9108669cd122dad17b1de9"
  }
 },
 "nbformat": 4,
 "nbformat_minor": 2
}